{
  "nbformat": 4,
  "nbformat_minor": 0,
  "metadata": {
    "colab": {
      "name": "chapter2-exercise.ipynb",
      "provenance": [],
      "collapsed_sections": [],
      "include_colab_link": true
    },
    "kernelspec": {
      "name": "python3",
      "display_name": "Python 3"
    }
  },
  "cells": [
    {
      "cell_type": "markdown",
      "metadata": {
        "id": "view-in-github",
        "colab_type": "text"
      },
      "source": [
        "<a href=\"https://colab.research.google.com/github/thucuyen127/colab_and_github/blob/master/chapter2_exercise.ipynb\" target=\"_parent\"><img src=\"https://colab.research.google.com/assets/colab-badge.svg\" alt=\"Open In Colab\"/></a>"
      ]
    },
    {
      "cell_type": "markdown",
      "metadata": {
        "id": "sMJ5KoiBMARd"
      },
      "source": [
        "**BÀI TẬP LẬP TRÌNH CHƯƠNG 2**\n",
        "\n",
        "Bài 1: Lập trình nhập vào từ bàn phím 2 số nguyên và tính:\n",
        "\n",
        "\n",
        "1.   Tổng của 2 số\n",
        "2.   Tích của 2 số\n",
        "3.   Hiệu của 2 số\n",
        "4.   Phép chia lấy phần dư của 2 số\n",
        "5.   Phép chia lấy phần nguyên của 2 số\n",
        "\n",
        "Kết quả xuất ra màn hình\n",
        "\n"
      ]
    },
    {
      "cell_type": "code",
      "metadata": {
        "id": "Os5z0wPpL1Nk",
        "outputId": "effebe95-52cd-4f3d-be61-a2e847611688",
        "colab": {
          "base_uri": "https://localhost:8080/"
        }
      },
      "source": [
        "#Your code here\n",
        "\n",
        "a = input(\"a=\")\n",
        "b= input(\"b=\")\n",
        "a = int(a)\n",
        "b= int(b)\n",
        "c=a+b\n",
        "print(\"a+b=\",c)\n",
        "d=a*b\n",
        "print(\"a*b=\",d)\n",
        "e=a-b\n",
        "print(\"a-b=\",e)\n",
        "f=b % a\n",
        "print(\"Phép chia lấy phần dư của b và a là \",f)\n",
        "g=b // a\n",
        "print(\"Phép chia lấy phần nguyên của b và a là \",g)\n"
      ],
      "execution_count": 18,
      "outputs": [
        {
          "output_type": "stream",
          "text": [
            "a=5\n",
            "b=6\n",
            "a+b= 11\n",
            "a*b= 30\n",
            "a-b= -1\n",
            "Phép chia lấy phần dư của b và a là  1\n",
            "Phép chia lấy phần nguyên của b và a là  1\n"
          ],
          "name": "stdout"
        }
      ]
    },
    {
      "cell_type": "markdown",
      "metadata": {
        "id": "j2suJwVPM5Zk"
      },
      "source": [
        "Bài 2: Lập trình nhập vào từ bàn phím 2 số thực và tính:\n",
        "\n",
        "1.   Tổng của 2 số\n",
        "2.   Tích của 2 số\n",
        "3.   Hiệu của 2 số\n",
        "4.   Thương của 2 số\n",
        "\n",
        "Kết quả xuất ra màn hình"
      ]
    },
    {
      "cell_type": "code",
      "metadata": {
        "id": "fmlD-ggRMh9q",
        "outputId": "a0c1cf64-a782-447e-b144-a80e6fa0bc56",
        "colab": {
          "base_uri": "https://localhost:8080/"
        }
      },
      "source": [
        "#Your code here\n",
        "\n",
        "x = float(input(\"x = \"))\n",
        "y = float(input(\"y = \"))\n",
        "print(\"x + y = \",x + y)\n",
        "print(\" x * y = \",x * y)\n",
        "print(\"x - y = \",x - y)\n",
        "print(\"x / y = \",x / y)\n"
      ],
      "execution_count": 7,
      "outputs": [
        {
          "output_type": "stream",
          "text": [
            "x = 7\n",
            "y = 5.6\n",
            "x + y =  12.6\n",
            " x * y =  39.199999999999996\n",
            "x - y =  1.4000000000000004\n",
            "x / y =  1.25\n"
          ],
          "name": "stdout"
        }
      ]
    },
    {
      "cell_type": "markdown",
      "metadata": {
        "id": "sOCly6AvNUAN"
      },
      "source": [
        "Bài 3: (Sử dụng các hàm toán học) Nhập một số từ bàn phím và tính:\n",
        "\n",
        "\n",
        "\n",
        "1.   Trị tuyệt đối\n",
        "2.   Lấy phần nguyên của số\n",
        "3.   Chuyển đổi thành số thực\n",
        "4.   (nhập thêm 1 số từ bàn phím) và tính lũy thừa $ x^y $\n",
        "5.   Tính căn bậc hai\n",
        "\n",
        "Kết quả xuất ra màn hình\n",
        "\n"
      ]
    },
    {
      "cell_type": "code",
      "metadata": {
        "id": "XNKN4yAoOUAa",
        "outputId": "892c1441-488d-4bc4-c8b3-01703e711458",
        "colab": {
          "base_uri": "https://localhost:8080/"
        }
      },
      "source": [
        "#Your code here\n",
        "z = float(input(\"z= \"))\n",
        "import math\n",
        "print(\"Trị tuyệt đối của z là \",abs(z))\n",
        "print(\"Phần nguyên của số z là \",math.trunc(z))\n",
        "t = float(input(\"t = \"))\n",
        "print(\" z^t = \",z**t)\n",
        "print(\"căn bậc hai của z là \",math.sqrt(abs(z)))"
      ],
      "execution_count": 19,
      "outputs": [
        {
          "output_type": "stream",
          "text": [
            "z= 8\n",
            "Trị tuyệt đối của z là  8.0\n",
            "Phần nguyên của số z là  8\n",
            "t = 2\n",
            " z^t =  64.0\n",
            "căn bậc hai của z là  2.8284271247461903\n"
          ],
          "name": "stdout"
        }
      ]
    },
    {
      "cell_type": "markdown",
      "metadata": {
        "id": "79zQGrU5Od-d"
      },
      "source": [
        "Bài 4: Nhập 2 số từ bàn phím và thực hiện các phép so sánh sau giữa 2 số:\n",
        "\n",
        "\n",
        "\n",
        "1.   $ \\geq $\n",
        "2.   $ \\leq $\n",
        "3.   $ > $\n",
        "4.   $ < $\n",
        "5.   $ \\neq $\n",
        "\n",
        "Kết quả xuất ra màn hình\n"
      ]
    },
    {
      "cell_type": "code",
      "metadata": {
        "id": "qePknJEaP1tL",
        "outputId": "042dc268-a857-4a6e-9773-8eea1e21d9f6",
        "colab": {
          "base_uri": "https://localhost:8080/"
        }
      },
      "source": [
        "#Your code here\n",
        "\n",
        "m = float(input(\"m = \"))\n",
        "n = float(input(\"n = \"))\n",
        "print(\"kết quả phép so sánh m lớn hơn hoặc bằng n là\",m >= n)\n",
        "print(\"kết quả phép so sánh m bé hơn hoặc bằng n là\",m<=n)\n",
        "print(\"kết quả phép so sánh m lớn hơn n là\",m>n)\n",
        "print(\"kết quả phép so sánh m bé hơn n là\",m<n)\n",
        "print(\"kết quả phép so sánh m khác n là\",m!=n)"
      ],
      "execution_count": 30,
      "outputs": [
        {
          "output_type": "stream",
          "text": [
            "m = 8\n",
            "n = 2\n",
            "kết quả phép so sánh m lớn hơn hoặc bằng n là True\n",
            "kết quả phép so sánh m bé hơn hoặc bằng n là False\n",
            "kết quả phép so sánh m lớn hơn n là True\n",
            "kết quả phép so sánh m bé hơn n là False\n",
            "kết quả phép so sánh m khác n là True\n"
          ],
          "name": "stdout"
        }
      ]
    },
    {
      "cell_type": "markdown",
      "metadata": {
        "id": "90lU8sTXP4hu"
      },
      "source": [
        "Bài 5: Nhập 1 chuỗi ký tự từ bàn phím:\n",
        "\n",
        "\n",
        "\n",
        "1.   Chuyển thành chuỗi in hoa\n",
        "2.   Chuyển thành chuỗi in thường\n",
        "\n",
        "Kết quả xuất ra màn hình\n",
        "\n",
        "\n",
        "\n"
      ]
    },
    {
      "cell_type": "code",
      "metadata": {
        "id": "PWIIssukQXja",
        "outputId": "044c36a9-dac1-4aef-9f9a-f164f4eb976a",
        "colab": {
          "base_uri": "https://localhost:8080/"
        }
      },
      "source": [
        "#Your code here\n",
        "gg= input(\"chuỗi kí tự là \")\n",
        "print(\"chuỗi in hoa: \",gg.upper())\n",
        "print(\"chuỗi in thường: \",gg.lower())"
      ],
      "execution_count": 22,
      "outputs": [
        {
          "output_type": "stream",
          "text": [
            "chuỗi kí tự là Đoán xem\n",
            "chuỗi in hoa:  ĐOÁN XEM\n",
            "chuỗi in thường:  đoán xem\n"
          ],
          "name": "stdout"
        }
      ]
    },
    {
      "cell_type": "markdown",
      "metadata": {
        "id": "gv9n9-gMQZ7O"
      },
      "source": [
        "Bài 6: Xuất ra màn hình 1 chuỗi ký từ nằm trên nhiều hàng (có thể là 1 bài thơ tùy ý bạn lựa chọn)"
      ]
    },
    {
      "cell_type": "code",
      "metadata": {
        "id": "ZcjBCkQOQoS0",
        "outputId": "a0c32c61-035a-47e3-b461-5b08080c0719",
        "colab": {
          "base_uri": "https://localhost:8080/"
        }
      },
      "source": [
        "#Your code here\n",
        "\n",
        "baitho= ('''Thân em vừa trắng lại vừa tròn,\n",
        "Bảy nổi ba chìm với nước non.\n",
        "Rắn nát mặc dầu tay kẻ nặn,\n",
        "Mà em vẫn giữ tấm lòng son.''')\n",
        "print(baitho)"
      ],
      "execution_count": 24,
      "outputs": [
        {
          "output_type": "stream",
          "text": [
            "Thân em vừa trắng lại vừa tròn,\n",
            "Bảy nổi ba chìm với nước non.\n",
            "Rắn nát mặc dầu tay kẻ nặn,\n",
            "Mà em vẫn giữ tấm lòng son.\n"
          ],
          "name": "stdout"
        }
      ]
    }
  ]
}