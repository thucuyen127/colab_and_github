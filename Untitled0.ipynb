{
  "nbformat": 4,
  "nbformat_minor": 0,
  "metadata": {
    "colab": {
      "name": "Untitled0.ipynb",
      "provenance": [],
      "authorship_tag": "ABX9TyMaVi1gLzr3vSJ5nv2SIxR2",
      "include_colab_link": true
    },
    "kernelspec": {
      "name": "python3",
      "display_name": "Python 3"
    }
  },
  "cells": [
    {
      "cell_type": "markdown",
      "metadata": {
        "id": "view-in-github",
        "colab_type": "text"
      },
      "source": [
        "<a href=\"https://colab.research.google.com/github/thucuyen127/colab_and_github/blob/master/Untitled0.ipynb\" target=\"_parent\"><img src=\"https://colab.research.google.com/assets/colab-badge.svg\" alt=\"Open In Colab\"/></a>"
      ]
    },
    {
      "cell_type": "markdown",
      "metadata": {
        "id": "XXqd7Jk997wR"
      },
      "source": [
        "1) Tạo một biến x kiểu List rỗng"
      ]
    },
    {
      "cell_type": "code",
      "metadata": {
        "id": "DeNGEbj59KIk"
      },
      "source": [
        "x=[]"
      ],
      "execution_count": 2,
      "outputs": []
    },
    {
      "cell_type": "markdown",
      "metadata": {
        "id": "zbtPOHbA9_0G"
      },
      "source": [
        "2) Thêm giá trị 18 vào x"
      ]
    },
    {
      "cell_type": "code",
      "metadata": {
        "id": "Ss20yCsY-An2"
      },
      "source": [
        "x.append(18)"
      ],
      "execution_count": 3,
      "outputs": []
    },
    {
      "cell_type": "markdown",
      "metadata": {
        "id": "vtDVJ8Rq_UgN"
      },
      "source": [
        "3) Thêm giá trị \"Huế\" vào x"
      ]
    },
    {
      "cell_type": "code",
      "metadata": {
        "id": "z0_Dq9Fz_I3m"
      },
      "source": [
        "x.append(\"Huế\")"
      ],
      "execution_count": 4,
      "outputs": []
    },
    {
      "cell_type": "markdown",
      "metadata": {
        "id": "1xwxR4Li_e8d"
      },
      "source": [
        "4) Tạo 1 List  y = [12, 45, -1, -0.56, \"abc\"]"
      ]
    },
    {
      "cell_type": "code",
      "metadata": {
        "id": "UDO6e94u_if0"
      },
      "source": [
        "y = [12,45,-1,-0.56,\"abc\"]"
      ],
      "execution_count": 6,
      "outputs": []
    },
    {
      "cell_type": "markdown",
      "metadata": {
        "id": "lhe4miYO_pZj"
      },
      "source": [
        "5) Thêm y vào x"
      ]
    },
    {
      "cell_type": "code",
      "metadata": {
        "id": "aQ5iMQdV_0MW"
      },
      "source": [
        "x = x + y"
      ],
      "execution_count": 7,
      "outputs": []
    },
    {
      "cell_type": "markdown",
      "metadata": {
        "id": "ToVP6kg8_3k2"
      },
      "source": [
        "6) Xuất giá trị của x ra màn hình"
      ]
    },
    {
      "cell_type": "code",
      "metadata": {
        "id": "TBWgU0Sx_8I-",
        "outputId": "ca741b01-bac3-426e-997a-b646a1567f6f",
        "colab": {
          "base_uri": "https://localhost:8080/"
        }
      },
      "source": [
        "print(x)"
      ],
      "execution_count": 17,
      "outputs": [
        {
          "output_type": "stream",
          "text": [
            "[18, 'Huế', 12, 45, -1, -0.56, 'abc']\n"
          ],
          "name": "stdout"
        }
      ]
    },
    {
      "cell_type": "markdown",
      "metadata": {
        "id": "QtqC0Gn1AFZm"
      },
      "source": [
        "7) In ra màn hình giá trị của phần tử cuối cùng và phần tử đầu tiên của x"
      ]
    },
    {
      "cell_type": "code",
      "metadata": {
        "id": "mnknYOBBAHtO",
        "outputId": "27b20eba-1ff8-49a7-b644-889629ec3a5b",
        "colab": {
          "base_uri": "https://localhost:8080/"
        }
      },
      "source": [
        "print(\"Phần tử cuối cùng của x là \",x[-1])\n",
        "print(\"Phần tử đầu tiên của x là \",x[0])"
      ],
      "execution_count": 18,
      "outputs": [
        {
          "output_type": "stream",
          "text": [
            "Phần tử cuối cùng của x là  abc\n",
            "Phần tử đầu tiên của x là  18\n"
          ],
          "name": "stdout"
        }
      ]
    },
    {
      "cell_type": "markdown",
      "metadata": {
        "id": "cLdr29ulBCfY"
      },
      "source": [
        "8) In ra màn hình giá trị của phần tử đầu tiên đến phần tử thứ 5 của x"
      ]
    },
    {
      "cell_type": "code",
      "metadata": {
        "id": "qVsBnV4mBFTF",
        "outputId": "1d97c3ed-af92-4fb7-a614-466e22b53ee4",
        "colab": {
          "base_uri": "https://localhost:8080/"
        }
      },
      "source": [
        "print(\"Các phần tử đầu tiên đến thứ 5 của x là \",x[:5])"
      ],
      "execution_count": 19,
      "outputs": [
        {
          "output_type": "stream",
          "text": [
            "Các phần tử đầu tiên đến thứ 5 của x là  [18, 'Huế', 12, 45, -1]\n"
          ],
          "name": "stdout"
        }
      ]
    },
    {
      "cell_type": "markdown",
      "metadata": {
        "id": "hC3t6Mv2BgCZ"
      },
      "source": [
        "9) In ra màn hình giá trị của phần từ thứ 3 đến cuối cùng của x"
      ]
    },
    {
      "cell_type": "code",
      "metadata": {
        "id": "ChyDDgw8BkAd",
        "outputId": "0243ff89-0773-4cf0-ad8c-ecf944f3f416",
        "colab": {
          "base_uri": "https://localhost:8080/"
        }
      },
      "source": [
        "print(\"Các phần tử từ thứ 3 đến cuối cùng của x là \",x[2:])"
      ],
      "execution_count": 20,
      "outputs": [
        {
          "output_type": "stream",
          "text": [
            "Các phần tử từ thứ 3 đến cuối cùng của x là  [12, 45, -1, -0.56, 'abc']\n"
          ],
          "name": "stdout"
        }
      ]
    }
  ]
}