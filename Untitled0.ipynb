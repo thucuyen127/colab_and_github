{
  "nbformat": 4,
  "nbformat_minor": 0,
  "metadata": {
    "colab": {
      "name": "Untitled0.ipynb",
      "provenance": [],
      "authorship_tag": "ABX9TyOcdC9f43TY4+KvHrGDSSPx",
      "include_colab_link": true
    },
    "kernelspec": {
      "name": "python3",
      "display_name": "Python 3"
    }
  },
  "cells": [
    {
      "cell_type": "markdown",
      "metadata": {
        "id": "view-in-github",
        "colab_type": "text"
      },
      "source": [
        "<a href=\"https://colab.research.google.com/github/thucuyen127/colab_and_github/blob/master/Untitled0.ipynb\" target=\"_parent\"><img src=\"https://colab.research.google.com/assets/colab-badge.svg\" alt=\"Open In Colab\"/></a>"
      ]
    },
    {
      "cell_type": "code",
      "metadata": {
        "colab": {
          "base_uri": "https://localhost:8080/"
        },
        "id": "yl5ZLKUSfGEj",
        "outputId": "4de1fb27-8fb4-4fc2-ae7e-5ddb51e85e2c"
      },
      "source": [
        "import random\n",
        "n=int(input(\"nhap n=\"))\n",
        "list=[]\n",
        "for i in range(n):\n",
        "  x=random.random()\n",
        "  list.append(x)\n",
        "print(list)\n",
        "max=list[0]\n",
        "i=1\n",
        "while i<n:\n",
        "  if max<list[i]:\n",
        "    max=list[i]\n",
        "  i=i+1\n",
        "print(\"gia tri lon nhat la \",max)"
      ],
      "execution_count": 5,
      "outputs": [
        {
          "output_type": "stream",
          "text": [
            "nhap n=3\n",
            "[0.5591017998688043, 0.9958507990264139, 0.5160611297338755]\n",
            "gia tri lon nhat la  0.9958507990264139\n"
          ],
          "name": "stdout"
        }
      ]
    }
  ]
}