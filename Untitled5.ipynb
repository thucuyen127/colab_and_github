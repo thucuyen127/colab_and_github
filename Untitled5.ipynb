{
  "nbformat": 4,
  "nbformat_minor": 0,
  "metadata": {
    "colab": {
      "name": "Untitled5.ipynb",
      "provenance": [],
      "authorship_tag": "ABX9TyNB382V0wgLto9ZkMOAYcgl",
      "include_colab_link": true
    },
    "kernelspec": {
      "name": "python3",
      "display_name": "Python 3"
    }
  },
  "cells": [
    {
      "cell_type": "markdown",
      "metadata": {
        "id": "view-in-github",
        "colab_type": "text"
      },
      "source": [
        "<a href=\"https://colab.research.google.com/github/thucuyen127/colab_and_github/blob/master/Untitled5.ipynb\" target=\"_parent\"><img src=\"https://colab.research.google.com/assets/colab-badge.svg\" alt=\"Open In Colab\"/></a>"
      ]
    },
    {
      "cell_type": "code",
      "metadata": {
        "colab": {
          "base_uri": "https://localhost:8080/"
        },
        "id": "Ehde-JW_ytfy",
        "outputId": "b1fd4598-b50f-4e7a-a4db-eeb7edc17396"
      },
      "source": [
        "n = int(input(\"Nhập số cần tính giai thừa: \"))\r\n",
        " \r\n",
        "def giaiThua(n):\r\n",
        "    if n == 0:\r\n",
        "        return 1\r\n",
        "    return n * giaiThua(n - 1)\r\n",
        " \r\n",
        "print ('Giá trị của',n,'giai thừa là :', giaiThua(n))"
      ],
      "execution_count": null,
      "outputs": [
        {
          "output_type": "stream",
          "text": [
            "Nhập số cần tính giai thừa: 5\n",
            "Giá trị của 5 giai thừa là : 120\n"
          ],
          "name": "stdout"
        }
      ]
    }
  ]
}